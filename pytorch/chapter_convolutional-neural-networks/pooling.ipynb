{
 "cells": [
  {
   "cell_type": "markdown",
   "id": "89ad261a",
   "metadata": {
    "origin_pos": 0
   },
   "source": [
    "# 汇聚层\n",
    ":label:`sec_pooling`\n",
    "\n",
    "通常当我们处理图像时，我们希望逐渐降低隐藏表示的空间分辨率、聚集信息，这样随着我们在神经网络中层叠的上升，每个神经元对其敏感的感受野（输入）就越大。\n",
    "\n",
    "而我们的机器学习任务通常会跟全局图像的问题有关（例如，“图像是否包含一只猫呢？”），所以我们最后一层的神经元应该对整个输入的全局敏感。通过逐渐聚合信息，生成越来越粗糙的映射，最终实现学习全局表示的目标，同时将卷积图层的所有优势保留在中间层。\n",
    "\n",
    "此外，当检测较底层的特征时（例如 :numref:`sec_conv_layer`中所讨论的边缘），我们通常希望这些特征保持某种程度上的平移不变性。例如，如果我们拍摄黑白之间轮廓清晰的图像`X`，并将整个图像向右移动一个像素，即`Z[i, j] = X[i, j + 1]`，则新图像`Z`的输出可能大不相同。而在现实中，随着拍摄角度的移动，任何物体几乎不可能发生在同一像素上。即使用三脚架拍摄一个静止的物体，由于快门的移动而引起的相机振动，可能会使所有物体左右移动一个像素（除了高端相机配备了特殊功能来解决这个问题）。\n",
    "\n",
    "本节将介绍*汇聚*（pooling）层，它具有双重目的：降低卷积层对位置的敏感性，同时降低对空间降采样表示的敏感性。\n",
    "\n",
    "## 最大汇聚层和平均汇聚层\n",
    "\n",
    "与卷积层类似，汇聚层运算符由一个固定形状的窗口组成，该窗口根据其步幅大小在输入的所有区域上滑动，为固定形状窗口（有时称为*汇聚窗口*）遍历的每个位置计算一个输出。\n",
    "然而，不同于卷积层中的输入与卷积核之间的互相关计算，汇聚层不包含参数。\n",
    "相反，池运算是确定性的，我们通常计算汇聚窗口中所有元素的最大值或平均值。这些操作分别称为*最大汇聚层*（maximum pooling）和*平均汇聚层*（average pooling）。\n",
    "\n",
    "在这两种情况下，与互相关运算符一样，汇聚窗口从输入张量的左上角开始，从左往右、从上往下的在输入张量内滑动。在汇聚窗口到达的每个位置，它计算该窗口中输入子张量的最大值或平均值。计算最大值或平均值是取决于使用了最大汇聚层还是平均汇聚层。\n",
    "\n",
    "![汇聚窗口形状为 $2\\times 2$ 的最大汇聚层。着色部分是第一个输出元素，以及用于计算这个输出的输入元素: $\\max(0, 1, 3, 4)=4$.](../img/pooling.svg)\n",
    ":label:`fig_pooling`\n",
    "\n",
    " :numref:`fig_pooling`中的输出张量的高度为$2$，宽度为$2$。这四个元素为每个汇聚窗口中的最大值：\n",
    "\n",
    "$$\n",
    "\\max(0, 1, 3, 4)=4,\\\\\n",
    "\\max(1, 2, 4, 5)=5,\\\\\n",
    "\\max(3, 4, 6, 7)=7,\\\\\n",
    "\\max(4, 5, 7, 8)=8.\\\\\n",
    "$$\n",
    "\n",
    "汇聚窗口形状为$p \\times q$的汇聚层称为$p \\times q$汇聚层，汇聚操作称为$p \\times q$汇聚。\n",
    "\n",
    "回到本节开头提到的对象边缘检测示例，现在我们将使用卷积层的输出作为$2\\times 2$最大汇聚的输入。\n",
    "设置卷积层输入为`X`，汇聚层输出为`Y`。\n",
    "无论`X[i, j]`和`X[i, j + 1]`的值相同与否，或`X[i, j + 1]`和`X[i, j + 2]`的值相同与否，汇聚层始终输出`Y[i, j] = 1`。\n",
    "也就是说，使用$2\\times 2$最大汇聚层，即使在高度或宽度上移动一个元素，卷积层仍然可以识别到模式。\n",
    "\n",
    "在下面的代码中的`pool2d`函数，我们(**实现汇聚层的前向传播**)。\n",
    "这类似于 :numref:`sec_conv_layer`中的`corr2d`函数。\n",
    "然而，这里我们没有卷积核，输出为输入中每个区域的最大值或平均值。\n"
   ]
  },
  {
   "cell_type": "code",
   "execution_count": 1,
   "id": "9a3d975f",
   "metadata": {
    "execution": {
     "iopub.execute_input": "2022-12-07T16:29:28.376146Z",
     "iopub.status.busy": "2022-12-07T16:29:28.375324Z",
     "iopub.status.idle": "2022-12-07T16:29:30.594488Z",
     "shell.execute_reply": "2022-12-07T16:29:30.593661Z"
    },
    "origin_pos": 2,
    "tab": [
     "pytorch"
    ]
   },
   "outputs": [],
   "source": [
    "import torch\n",
    "from torch import nn\n",
    "from d2l import torch as d2l"
   ]
  },
  {
   "cell_type": "code",
   "execution_count": 2,
   "id": "5a68d43a",
   "metadata": {
    "execution": {
     "iopub.execute_input": "2022-12-07T16:29:30.598409Z",
     "iopub.status.busy": "2022-12-07T16:29:30.597852Z",
     "iopub.status.idle": "2022-12-07T16:29:30.603739Z",
     "shell.execute_reply": "2022-12-07T16:29:30.603024Z"
    },
    "origin_pos": 4,
    "tab": [
     "pytorch"
    ]
   },
   "outputs": [],
   "source": [
    "def pool2d(X, pool_size, mode='max'):\n",
    "    p_h, p_w = pool_size\n",
    "    Y = torch.zeros((X.shape[0] - p_h + 1, X.shape[1] - p_w + 1))\n",
    "    for i in range(Y.shape[0]):\n",
    "        for j in range(Y.shape[1]):\n",
    "            if mode == 'max':\n",
    "                Y[i, j] = X[i: i + p_h, j: j + p_w].max()\n",
    "            elif mode == 'avg':\n",
    "                Y[i, j] = X[i: i + p_h, j: j + p_w].mean()\n",
    "    return Y"
   ]
  },
  {
   "cell_type": "markdown",
   "id": "4855d618",
   "metadata": {
    "origin_pos": 6
   },
   "source": [
    "我们可以构建 :numref:`fig_pooling`中的输入张量`X`，[**验证二维最大汇聚层的输出**]。\n"
   ]
  },
  {
   "cell_type": "code",
   "execution_count": 3,
   "id": "2c139daa",
   "metadata": {
    "execution": {
     "iopub.execute_input": "2022-12-07T16:29:30.607087Z",
     "iopub.status.busy": "2022-12-07T16:29:30.606446Z",
     "iopub.status.idle": "2022-12-07T16:29:30.634174Z",
     "shell.execute_reply": "2022-12-07T16:29:30.633472Z"
    },
    "origin_pos": 7,
    "tab": [
     "pytorch"
    ]
   },
   "outputs": [
    {
     "data": {
      "text/plain": [
       "tensor([[4., 5.],\n",
       "        [7., 8.]])"
      ]
     },
     "execution_count": 3,
     "metadata": {},
     "output_type": "execute_result"
    }
   ],
   "source": [
    "X = torch.tensor([[0.0, 1.0, 2.0], [3.0, 4.0, 5.0], [6.0, 7.0, 8.0]])\n",
    "pool2d(X, (2, 2))"
   ]
  },
  {
   "cell_type": "markdown",
   "id": "f8fda619",
   "metadata": {
    "origin_pos": 8
   },
   "source": [
    "此外，我们还可以(**验证平均汇聚层**)。\n"
   ]
  },
  {
   "cell_type": "code",
   "execution_count": 4,
   "id": "d9d28188",
   "metadata": {
    "execution": {
     "iopub.execute_input": "2022-12-07T16:29:30.637440Z",
     "iopub.status.busy": "2022-12-07T16:29:30.636995Z",
     "iopub.status.idle": "2022-12-07T16:29:30.643146Z",
     "shell.execute_reply": "2022-12-07T16:29:30.642411Z"
    },
    "origin_pos": 9,
    "tab": [
     "pytorch"
    ]
   },
   "outputs": [
    {
     "data": {
      "text/plain": [
       "tensor([[2., 3.],\n",
       "        [5., 6.]])"
      ]
     },
     "execution_count": 4,
     "metadata": {},
     "output_type": "execute_result"
    }
   ],
   "source": [
    "pool2d(X, (2, 2), 'avg')"
   ]
  },
  {
   "cell_type": "markdown",
   "id": "78e9ab42",
   "metadata": {
    "origin_pos": 10
   },
   "source": [
    "## [**填充和步幅**]\n",
    "\n",
    "与卷积层一样，汇聚层也可以改变输出形状。和以前一样，我们可以通过填充和步幅以获得所需的输出形状。\n",
    "下面，我们用深度学习框架中内置的二维最大汇聚层，来演示汇聚层中填充和步幅的使用。\n",
    "我们首先构造了一个输入张量`X`，它有四个维度，其中样本数和通道数都是1。\n"
   ]
  },
  {
   "cell_type": "code",
   "execution_count": 5,
   "id": "ae9eeeff",
   "metadata": {
    "execution": {
     "iopub.execute_input": "2022-12-07T16:29:30.646322Z",
     "iopub.status.busy": "2022-12-07T16:29:30.645907Z",
     "iopub.status.idle": "2022-12-07T16:29:30.651970Z",
     "shell.execute_reply": "2022-12-07T16:29:30.651277Z"
    },
    "origin_pos": 12,
    "tab": [
     "pytorch"
    ]
   },
   "outputs": [
    {
     "data": {
      "text/plain": [
       "tensor([[[[ 0.,  1.,  2.,  3.],\n",
       "          [ 4.,  5.,  6.,  7.],\n",
       "          [ 8.,  9., 10., 11.],\n",
       "          [12., 13., 14., 15.]]]])"
      ]
     },
     "execution_count": 5,
     "metadata": {},
     "output_type": "execute_result"
    }
   ],
   "source": [
    "X = torch.arange(16, dtype=torch.float32).reshape((1, 1, 4, 4))\n",
    "X"
   ]
  },
  {
   "cell_type": "markdown",
   "id": "ab7fe79c",
   "metadata": {
    "origin_pos": 15
   },
   "source": [
    "默认情况下，(**深度学习框架中的步幅与汇聚窗口的大小相同**)。\n",
    "因此，如果我们使用形状为`(3, 3)`的汇聚窗口，那么默认情况下，我们得到的步幅形状为`(3, 3)`。\n"
   ]
  },
  {
   "cell_type": "code",
   "execution_count": 6,
   "id": "a33523df",
   "metadata": {
    "execution": {
     "iopub.execute_input": "2022-12-07T16:29:30.655087Z",
     "iopub.status.busy": "2022-12-07T16:29:30.654642Z",
     "iopub.status.idle": "2022-12-07T16:29:30.660179Z",
     "shell.execute_reply": "2022-12-07T16:29:30.659485Z"
    },
    "origin_pos": 17,
    "tab": [
     "pytorch"
    ]
   },
   "outputs": [
    {
     "data": {
      "text/plain": [
       "tensor([[[[10.]]]])"
      ]
     },
     "execution_count": 6,
     "metadata": {},
     "output_type": "execute_result"
    }
   ],
   "source": [
    "pool2d = nn.MaxPool2d(3)\n",
    "pool2d(X)"
   ]
  },
  {
   "cell_type": "markdown",
   "id": "8cdfbacf",
   "metadata": {
    "origin_pos": 20
   },
   "source": [
    "[**填充和步幅可以手动设定**]。\n"
   ]
  },
  {
   "cell_type": "code",
   "execution_count": 7,
   "id": "f97624cc",
   "metadata": {
    "execution": {
     "iopub.execute_input": "2022-12-07T16:29:30.663272Z",
     "iopub.status.busy": "2022-12-07T16:29:30.662990Z",
     "iopub.status.idle": "2022-12-07T16:29:30.669307Z",
     "shell.execute_reply": "2022-12-07T16:29:30.668589Z"
    },
    "origin_pos": 22,
    "tab": [
     "pytorch"
    ]
   },
   "outputs": [
    {
     "data": {
      "text/plain": [
       "tensor([[[[ 5.,  7.],\n",
       "          [13., 15.]]]])"
      ]
     },
     "execution_count": 7,
     "metadata": {},
     "output_type": "execute_result"
    }
   ],
   "source": [
    "pool2d = nn.MaxPool2d(3, padding=1, stride=2)\n",
    "pool2d(X)"
   ]
  },
  {
   "cell_type": "markdown",
   "id": "aca1e7d0",
   "metadata": {
    "origin_pos": 26,
    "tab": [
     "pytorch"
    ]
   },
   "source": [
    "当然，我们可以(**设定一个任意大小的矩形汇聚窗口，并分别设定填充和步幅的高度和宽度**)。\n"
   ]
  },
  {
   "cell_type": "code",
   "execution_count": 8,
   "id": "d9435b35",
   "metadata": {
    "execution": {
     "iopub.execute_input": "2022-12-07T16:29:30.672720Z",
     "iopub.status.busy": "2022-12-07T16:29:30.672056Z",
     "iopub.status.idle": "2022-12-07T16:29:30.678520Z",
     "shell.execute_reply": "2022-12-07T16:29:30.677810Z"
    },
    "origin_pos": 30,
    "tab": [
     "pytorch"
    ]
   },
   "outputs": [
    {
     "data": {
      "text/plain": [
       "tensor([[[[ 5.,  7.],\n",
       "          [13., 15.]]]])"
      ]
     },
     "execution_count": 8,
     "metadata": {},
     "output_type": "execute_result"
    }
   ],
   "source": [
    "pool2d = nn.MaxPool2d((2, 3), stride=(2, 3), padding=(0, 1))\n",
    "pool2d(X)"
   ]
  },
  {
   "cell_type": "markdown",
   "id": "f2f303d8",
   "metadata": {
    "origin_pos": 33
   },
   "source": [
    "## 多个通道\n",
    "\n",
    "在处理多通道输入数据时，[**汇聚层在每个输入通道上单独运算**]，而不是像卷积层一样在通道上对输入进行汇总。\n",
    "这意味着汇聚层的输出通道数与输入通道数相同。\n",
    "下面，我们将在通道维度上连结张量`X`和`X + 1`，以构建具有2个通道的输入。\n"
   ]
  },
  {
   "cell_type": "code",
   "execution_count": 9,
   "id": "5338d98d",
   "metadata": {
    "execution": {
     "iopub.execute_input": "2022-12-07T16:29:30.681939Z",
     "iopub.status.busy": "2022-12-07T16:29:30.681271Z",
     "iopub.status.idle": "2022-12-07T16:29:30.687548Z",
     "shell.execute_reply": "2022-12-07T16:29:30.686842Z"
    },
    "origin_pos": 35,
    "tab": [
     "pytorch"
    ]
   },
   "outputs": [
    {
     "data": {
      "text/plain": [
       "tensor([[[[ 0.,  1.,  2.,  3.],\n",
       "          [ 4.,  5.,  6.,  7.],\n",
       "          [ 8.,  9., 10., 11.],\n",
       "          [12., 13., 14., 15.]],\n",
       "\n",
       "         [[ 1.,  2.,  3.,  4.],\n",
       "          [ 5.,  6.,  7.,  8.],\n",
       "          [ 9., 10., 11., 12.],\n",
       "          [13., 14., 15., 16.]]]])"
      ]
     },
     "execution_count": 9,
     "metadata": {},
     "output_type": "execute_result"
    }
   ],
   "source": [
    "X = torch.cat((X, X + 1), 1)\n",
    "X"
   ]
  },
  {
   "cell_type": "markdown",
   "id": "d7e72200",
   "metadata": {
    "origin_pos": 37
   },
   "source": [
    "如下所示，汇聚后输出通道的数量仍然是2。\n"
   ]
  },
  {
   "cell_type": "code",
   "execution_count": 10,
   "id": "7288e5fd",
   "metadata": {
    "execution": {
     "iopub.execute_input": "2022-12-07T16:29:30.690887Z",
     "iopub.status.busy": "2022-12-07T16:29:30.690231Z",
     "iopub.status.idle": "2022-12-07T16:29:30.696430Z",
     "shell.execute_reply": "2022-12-07T16:29:30.695731Z"
    },
    "origin_pos": 39,
    "tab": [
     "pytorch"
    ]
   },
   "outputs": [
    {
     "data": {
      "text/plain": [
       "tensor([[[[ 5.,  7.],\n",
       "          [13., 15.]],\n",
       "\n",
       "         [[ 6.,  8.],\n",
       "          [14., 16.]]]])"
      ]
     },
     "execution_count": 10,
     "metadata": {},
     "output_type": "execute_result"
    }
   ],
   "source": [
    "pool2d = nn.MaxPool2d(3, padding=1, stride=2)\n",
    "pool2d(X)"
   ]
  },
  {
   "cell_type": "markdown",
   "id": "b84c8aab",
   "metadata": {
    "origin_pos": 43
   },
   "source": [
    "## 小结\n",
    "\n",
    "* 对于给定输入元素，最大汇聚层会输出该窗口内的最大值，平均汇聚层会输出该窗口内的平均值。\n",
    "* 汇聚层的主要优点之一是减轻卷积层对位置的过度敏感。\n",
    "* 我们可以指定汇聚层的填充和步幅。\n",
    "* 使用最大汇聚层以及大于1的步幅，可减少空间维度（如高度和宽度）。\n",
    "* 汇聚层的输出通道数与输入通道数相同。\n",
    "\n",
    "## 练习\n",
    "\n",
    "1. 尝试将平均汇聚层作为卷积层的特殊情况实现。\n",
    "1. 尝试将最大汇聚层作为卷积层的特殊情况实现。\n"
   ]
  },
  {
   "cell_type": "code",
   "execution_count": 10,
   "id": "4a91900f",
   "metadata": {},
   "outputs": [
    {
     "name": "stdout",
     "output_type": "stream",
     "text": [
      "输入数据维度： torch.Size([1, 3, 32, 32])\n",
      "输出数据维度（自定义最大汇聚层）： torch.Size([1, 3, 16, 16])\n"
     ]
    },
    {
     "data": {
      "text/plain": [
       "tensor(True)"
      ]
     },
     "execution_count": 10,
     "metadata": {},
     "output_type": "execute_result"
    }
   ],
   "source": [
    "import torch\n",
    "import torch.nn as nn\n",
    "import torch.nn.functional as F\n",
    "\n",
    "class MaxPool2dCustom(nn.Module):\n",
    "    def __init__(self, kernel_size, stride):\n",
    "        super(MaxPool2dCustom, self).__init__()\n",
    "        self.kernel_size = kernel_size\n",
    "        self.stride = stride\n",
    "\n",
    "    def forward(self, x):\n",
    "        batch_size, num_channels, height, width = x.size()\n",
    "\n",
    "        # 计算输出尺寸\n",
    "        out_height = (height - self.kernel_size) // self.stride + 1\n",
    "        out_width = (width - self.kernel_size) // self.stride + 1\n",
    "\n",
    "        # 使用卷积操作实现最大汇聚\n",
    "        x_unf = F.unfold(x, kernel_size=self.kernel_size, stride=self.stride)\n",
    "        x_unf = x_unf.view(batch_size, num_channels, self.kernel_size**2, out_height, out_width)\n",
    "        out, _ = x_unf.max(dim=2)\n",
    "        \n",
    "        return out\n",
    "\n",
    "# 示例使用自定义的最大汇聚层\n",
    "input_data = torch.arange(3 * 32 * 32, dtype=torch.float).view(1, 3, 32, 32)\n",
    "max_pool_layer_custom = MaxPool2dCustom(kernel_size=2, stride=2)\n",
    "output_data_custom = max_pool_layer_custom(input_data)\n",
    "\n",
    "# 输出结果\n",
    "print(\"输入数据维度：\", input_data.shape)\n",
    "print(\"输出数据维度（自定义最大汇聚层）：\", output_data_custom.shape)\n",
    "max_pool = nn.MaxPool2d(kernel_size=2, stride=2)\n",
    "\n",
    "torch.all(output_data_custom == max_pool(input_data))"
   ]
  },
  {
   "cell_type": "markdown",
   "id": "5c31de44",
   "metadata": {},
   "source": [
    "1. 假设汇聚层的输入大小为$c\\times h\\times w$，则汇聚窗口的形状为$p_h\\times p_w$，填充为$(p_h, p_w)$，步幅为$(s_h, s_w)$。这个汇聚层的计算成本是多少？\n",
    "\n",
    "输出大小为：$$c \\times \\lfloor \\frac{h + 2 \\times p_h + s_h - k_h}{s} \\rfloor \\times \\lfloor \\frac{w + 2 \\times p_w + s_w - k_w}{s} \\rfloor $$\n",
    "**平均汇聚层**\n",
    "- 乘法：$c \\times \\lfloor \\frac{h + 2 \\times p_h + s_h - k_h}{s} \\rfloor \\times \\lfloor \\frac{w + 2 \\times p_w + s_w - k_w}{s} \\rfloor $\n",
    "- 加法：$ (k_h \\times k_w - 1) \\times c \\times \\lfloor \\frac{h + 2 \\times p_h + s_h - k_h}{s} \\rfloor \\times \\lfloor \\frac{w + 2 \\times p_w + s_w - k_w}{s} \\rfloor $\n",
    "\n",
    "**最大汇聚层**\n",
    "- 乘法：0\n",
    "- 加法：0\n",
    "- 最值：$c \\times \\lfloor \\frac{h + 2 \\times p_h + s_h - k_h}{s} \\rfloor \\times \\lfloor \\frac{w + 2 \\times p_w + s_w - k_w}{s} \\rfloor $"
   ]
  },
  {
   "cell_type": "markdown",
   "id": "0edcb791",
   "metadata": {},
   "source": [
    "1. 为什么最大汇聚层和平均汇聚层的工作方式不同？\n",
    "\n",
    "最大汇聚层（Max Pooling）和平均汇聚层（Average Pooling）在工作方式上的主要不同在于它们在池化窗口中如何处理输入数据：\n",
    "\n",
    "1. **最大汇聚层**：在最大汇聚层中，每个池化窗口中的输出值是该窗口中的输入值的最大值。这意味着最大汇聚层会选择窗口内最显著的特征，并将其传递到下一层。这通常用于保留图像或特征中的主要特征，因为它强调了最显著的信号。\n",
    "\n",
    "2. **平均汇聚层**：在平均汇聚层中，每个池化窗口中的输出值是该窗口中输入值的平均值。这意味着平均汇聚层会将窗口内的平均特征传递到下一层。平均汇聚层有时用于减小数据的维度，以减少模型的参数数量，同时保留数据的整体趋势。\n",
    "\n",
    "因此，最大汇聚层更适合在保留重要特征的同时减小数据尺寸，而平均汇聚层则用于平滑数据，降低噪音，并减小数据的维度。不同的应用场景可能需要不同的汇聚方式。"
   ]
  },
  {
   "cell_type": "markdown",
   "id": "ac801248",
   "metadata": {},
   "source": [
    "1. 我们是否需要最小汇聚层？可以用已知函数替换它吗？\n",
    "\n",
    "理论上讲，最小汇聚层也可以实现同样的功能。再实际使用中，需要相应的模块进行适配，比如：不能使用ReLU作为激活函数，ReLU激活函数输出最小值为0，一个窗口内如果存在0，则模型的下一层很大程度上是稀疏的，导致模型更深层也是稀疏的，这样导致深度学习模型相当于浅层模型，失去了深度模型的优势。如果将ReLU置换为`逆ReLU`，即：\n",
    "$$ ReLU^{-1} = min(x, 0) $$\n",
    "将虚弱深层的稀疏性，实现与最大汇聚层的效果（还有模型的其他结构做适配）。"
   ]
  },
  {
   "cell_type": "code",
   "execution_count": 20,
   "id": "81dd56a4",
   "metadata": {},
   "outputs": [
    {
     "name": "stderr",
     "output_type": "stream",
     "text": [
      "/tmp/ipykernel_3255206/566248948.py:4: UserWarning: torch.range is deprecated and will be removed in a future release because its behavior is inconsistent with Python's range builtin. Instead, use torch.arange, which produces values in [start, end).\n",
      "  x = torch.range(-5, 5, 0.1)\n"
     ]
    },
    {
     "data": {
      "image/svg+xml": [
       "<?xml version=\"1.0\" encoding=\"utf-8\" standalone=\"no\"?>\n",
       "<!DOCTYPE svg PUBLIC \"-//W3C//DTD SVG 1.1//EN\"\n",
       "  \"http://www.w3.org/Graphics/SVG/1.1/DTD/svg11.dtd\">\n",
       "<svg xmlns:xlink=\"http://www.w3.org/1999/xlink\" width=\"231.442187pt\" height=\"169.678125pt\" viewBox=\"0 0 231.442187 169.678125\" xmlns=\"http://www.w3.org/2000/svg\" version=\"1.1\">\n",
       " <metadata>\n",
       "  <rdf:RDF xmlns:dc=\"http://purl.org/dc/elements/1.1/\" xmlns:cc=\"http://creativecommons.org/ns#\" xmlns:rdf=\"http://www.w3.org/1999/02/22-rdf-syntax-ns#\">\n",
       "   <cc:Work>\n",
       "    <dc:type rdf:resource=\"http://purl.org/dc/dcmitype/StillImage\"/>\n",
       "    <dc:date>2023-10-22T19:29:51.869573</dc:date>\n",
       "    <dc:format>image/svg+xml</dc:format>\n",
       "    <dc:creator>\n",
       "     <cc:Agent>\n",
       "      <dc:title>Matplotlib v3.7.2, https://matplotlib.org/</dc:title>\n",
       "     </cc:Agent>\n",
       "    </dc:creator>\n",
       "   </cc:Work>\n",
       "  </rdf:RDF>\n",
       " </metadata>\n",
       " <defs>\n",
       "  <style type=\"text/css\">*{stroke-linejoin: round; stroke-linecap: butt}</style>\n",
       " </defs>\n",
       " <g id=\"figure_1\">\n",
       "  <g id=\"patch_1\">\n",
       "   <path d=\"M 0 169.678125 \n",
       "L 231.442187 169.678125 \n",
       "L 231.442187 0 \n",
       "L 0 0 \n",
       "z\n",
       "\" style=\"fill: #ffffff\"/>\n",
       "  </g>\n",
       "  <g id=\"axes_1\">\n",
       "   <g id=\"patch_2\">\n",
       "    <path d=\"M 28.942188 145.8 \n",
       "L 224.242188 145.8 \n",
       "L 224.242188 7.2 \n",
       "L 28.942188 7.2 \n",
       "z\n",
       "\" style=\"fill: #ffffff\"/>\n",
       "   </g>\n",
       "   <g id=\"matplotlib.axis_1\">\n",
       "    <g id=\"xtick_1\">\n",
       "     <g id=\"line2d_1\">\n",
       "      <path d=\"M 55.574006 145.8 \n",
       "L 55.574006 7.2 \n",
       "\" clip-path=\"url(#p4b81e46e0b)\" style=\"fill: none; stroke: #b0b0b0; stroke-width: 0.8; stroke-linecap: square\"/>\n",
       "     </g>\n",
       "     <g id=\"line2d_2\">\n",
       "      <defs>\n",
       "       <path id=\"mb9067e4385\" d=\"M 0 0 \n",
       "L 0 3.5 \n",
       "\" style=\"stroke: #000000; stroke-width: 0.8\"/>\n",
       "      </defs>\n",
       "      <g>\n",
       "       <use xlink:href=\"#mb9067e4385\" x=\"55.574006\" y=\"145.8\" style=\"stroke: #000000; stroke-width: 0.8\"/>\n",
       "      </g>\n",
       "     </g>\n",
       "     <g id=\"text_1\">\n",
       "      <!-- −4 -->\n",
       "      <g transform=\"translate(48.202912 160.398438) scale(0.1 -0.1)\">\n",
       "       <defs>\n",
       "        <path id=\"DejaVuSans-2212\" d=\"M 678 2272 \n",
       "L 4684 2272 \n",
       "L 4684 1741 \n",
       "L 678 1741 \n",
       "L 678 2272 \n",
       "z\n",
       "\" transform=\"scale(0.015625)\"/>\n",
       "        <path id=\"DejaVuSans-34\" d=\"M 2419 4116 \n",
       "L 825 1625 \n",
       "L 2419 1625 \n",
       "L 2419 4116 \n",
       "z\n",
       "M 2253 4666 \n",
       "L 3047 4666 \n",
       "L 3047 1625 \n",
       "L 3713 1625 \n",
       "L 3713 1100 \n",
       "L 3047 1100 \n",
       "L 3047 0 \n",
       "L 2419 0 \n",
       "L 2419 1100 \n",
       "L 313 1100 \n",
       "L 313 1709 \n",
       "L 2253 4666 \n",
       "z\n",
       "\" transform=\"scale(0.015625)\"/>\n",
       "       </defs>\n",
       "       <use xlink:href=\"#DejaVuSans-2212\"/>\n",
       "       <use xlink:href=\"#DejaVuSans-34\" x=\"83.789062\"/>\n",
       "      </g>\n",
       "     </g>\n",
       "    </g>\n",
       "    <g id=\"xtick_2\">\n",
       "     <g id=\"line2d_3\">\n",
       "      <path d=\"M 91.083097 145.8 \n",
       "L 91.083097 7.2 \n",
       "\" clip-path=\"url(#p4b81e46e0b)\" style=\"fill: none; stroke: #b0b0b0; stroke-width: 0.8; stroke-linecap: square\"/>\n",
       "     </g>\n",
       "     <g id=\"line2d_4\">\n",
       "      <g>\n",
       "       <use xlink:href=\"#mb9067e4385\" x=\"91.083097\" y=\"145.8\" style=\"stroke: #000000; stroke-width: 0.8\"/>\n",
       "      </g>\n",
       "     </g>\n",
       "     <g id=\"text_2\">\n",
       "      <!-- −2 -->\n",
       "      <g transform=\"translate(83.712003 160.398438) scale(0.1 -0.1)\">\n",
       "       <defs>\n",
       "        <path id=\"DejaVuSans-32\" d=\"M 1228 531 \n",
       "L 3431 531 \n",
       "L 3431 0 \n",
       "L 469 0 \n",
       "L 469 531 \n",
       "Q 828 903 1448 1529 \n",
       "Q 2069 2156 2228 2338 \n",
       "Q 2531 2678 2651 2914 \n",
       "Q 2772 3150 2772 3378 \n",
       "Q 2772 3750 2511 3984 \n",
       "Q 2250 4219 1831 4219 \n",
       "Q 1534 4219 1204 4116 \n",
       "Q 875 4013 500 3803 \n",
       "L 500 4441 \n",
       "Q 881 4594 1212 4672 \n",
       "Q 1544 4750 1819 4750 \n",
       "Q 2544 4750 2975 4387 \n",
       "Q 3406 4025 3406 3419 \n",
       "Q 3406 3131 3298 2873 \n",
       "Q 3191 2616 2906 2266 \n",
       "Q 2828 2175 2409 1742 \n",
       "Q 1991 1309 1228 531 \n",
       "z\n",
       "\" transform=\"scale(0.015625)\"/>\n",
       "       </defs>\n",
       "       <use xlink:href=\"#DejaVuSans-2212\"/>\n",
       "       <use xlink:href=\"#DejaVuSans-32\" x=\"83.789062\"/>\n",
       "      </g>\n",
       "     </g>\n",
       "    </g>\n",
       "    <g id=\"xtick_3\">\n",
       "     <g id=\"line2d_5\">\n",
       "      <path d=\"M 126.592188 145.8 \n",
       "L 126.592188 7.2 \n",
       "\" clip-path=\"url(#p4b81e46e0b)\" style=\"fill: none; stroke: #b0b0b0; stroke-width: 0.8; stroke-linecap: square\"/>\n",
       "     </g>\n",
       "     <g id=\"line2d_6\">\n",
       "      <g>\n",
       "       <use xlink:href=\"#mb9067e4385\" x=\"126.592188\" y=\"145.8\" style=\"stroke: #000000; stroke-width: 0.8\"/>\n",
       "      </g>\n",
       "     </g>\n",
       "     <g id=\"text_3\">\n",
       "      <!-- 0 -->\n",
       "      <g transform=\"translate(123.410938 160.398438) scale(0.1 -0.1)\">\n",
       "       <defs>\n",
       "        <path id=\"DejaVuSans-30\" d=\"M 2034 4250 \n",
       "Q 1547 4250 1301 3770 \n",
       "Q 1056 3291 1056 2328 \n",
       "Q 1056 1369 1301 889 \n",
       "Q 1547 409 2034 409 \n",
       "Q 2525 409 2770 889 \n",
       "Q 3016 1369 3016 2328 \n",
       "Q 3016 3291 2770 3770 \n",
       "Q 2525 4250 2034 4250 \n",
       "z\n",
       "M 2034 4750 \n",
       "Q 2819 4750 3233 4129 \n",
       "Q 3647 3509 3647 2328 \n",
       "Q 3647 1150 3233 529 \n",
       "Q 2819 -91 2034 -91 \n",
       "Q 1250 -91 836 529 \n",
       "Q 422 1150 422 2328 \n",
       "Q 422 3509 836 4129 \n",
       "Q 1250 4750 2034 4750 \n",
       "z\n",
       "\" transform=\"scale(0.015625)\"/>\n",
       "       </defs>\n",
       "       <use xlink:href=\"#DejaVuSans-30\"/>\n",
       "      </g>\n",
       "     </g>\n",
       "    </g>\n",
       "    <g id=\"xtick_4\">\n",
       "     <g id=\"line2d_7\">\n",
       "      <path d=\"M 162.101278 145.8 \n",
       "L 162.101278 7.2 \n",
       "\" clip-path=\"url(#p4b81e46e0b)\" style=\"fill: none; stroke: #b0b0b0; stroke-width: 0.8; stroke-linecap: square\"/>\n",
       "     </g>\n",
       "     <g id=\"line2d_8\">\n",
       "      <g>\n",
       "       <use xlink:href=\"#mb9067e4385\" x=\"162.101278\" y=\"145.8\" style=\"stroke: #000000; stroke-width: 0.8\"/>\n",
       "      </g>\n",
       "     </g>\n",
       "     <g id=\"text_4\">\n",
       "      <!-- 2 -->\n",
       "      <g transform=\"translate(158.920028 160.398438) scale(0.1 -0.1)\">\n",
       "       <use xlink:href=\"#DejaVuSans-32\"/>\n",
       "      </g>\n",
       "     </g>\n",
       "    </g>\n",
       "    <g id=\"xtick_5\">\n",
       "     <g id=\"line2d_9\">\n",
       "      <path d=\"M 197.610369 145.8 \n",
       "L 197.610369 7.2 \n",
       "\" clip-path=\"url(#p4b81e46e0b)\" style=\"fill: none; stroke: #b0b0b0; stroke-width: 0.8; stroke-linecap: square\"/>\n",
       "     </g>\n",
       "     <g id=\"line2d_10\">\n",
       "      <g>\n",
       "       <use xlink:href=\"#mb9067e4385\" x=\"197.610369\" y=\"145.8\" style=\"stroke: #000000; stroke-width: 0.8\"/>\n",
       "      </g>\n",
       "     </g>\n",
       "     <g id=\"text_5\">\n",
       "      <!-- 4 -->\n",
       "      <g transform=\"translate(194.429119 160.398438) scale(0.1 -0.1)\">\n",
       "       <use xlink:href=\"#DejaVuSans-34\"/>\n",
       "      </g>\n",
       "     </g>\n",
       "    </g>\n",
       "   </g>\n",
       "   <g id=\"matplotlib.axis_2\">\n",
       "    <g id=\"ytick_1\">\n",
       "     <g id=\"line2d_11\">\n",
       "      <path d=\"M 28.942188 139.5 \n",
       "L 224.242188 139.5 \n",
       "\" clip-path=\"url(#p4b81e46e0b)\" style=\"fill: none; stroke: #b0b0b0; stroke-width: 0.8; stroke-linecap: square\"/>\n",
       "     </g>\n",
       "     <g id=\"line2d_12\">\n",
       "      <defs>\n",
       "       <path id=\"mef9517f230\" d=\"M 0 0 \n",
       "L -3.5 0 \n",
       "\" style=\"stroke: #000000; stroke-width: 0.8\"/>\n",
       "      </defs>\n",
       "      <g>\n",
       "       <use xlink:href=\"#mef9517f230\" x=\"28.942188\" y=\"139.5\" style=\"stroke: #000000; stroke-width: 0.8\"/>\n",
       "      </g>\n",
       "     </g>\n",
       "     <g id=\"text_6\">\n",
       "      <!-- −5 -->\n",
       "      <g transform=\"translate(7.2 143.299219) scale(0.1 -0.1)\">\n",
       "       <defs>\n",
       "        <path id=\"DejaVuSans-35\" d=\"M 691 4666 \n",
       "L 3169 4666 \n",
       "L 3169 4134 \n",
       "L 1269 4134 \n",
       "L 1269 2991 \n",
       "Q 1406 3038 1543 3061 \n",
       "Q 1681 3084 1819 3084 \n",
       "Q 2600 3084 3056 2656 \n",
       "Q 3513 2228 3513 1497 \n",
       "Q 3513 744 3044 326 \n",
       "Q 2575 -91 1722 -91 \n",
       "Q 1428 -91 1123 -41 \n",
       "Q 819 9 494 109 \n",
       "L 494 744 \n",
       "Q 775 591 1075 516 \n",
       "Q 1375 441 1709 441 \n",
       "Q 2250 441 2565 725 \n",
       "Q 2881 1009 2881 1497 \n",
       "Q 2881 1984 2565 2268 \n",
       "Q 2250 2553 1709 2553 \n",
       "Q 1456 2553 1204 2497 \n",
       "Q 953 2441 691 2322 \n",
       "L 691 4666 \n",
       "z\n",
       "\" transform=\"scale(0.015625)\"/>\n",
       "       </defs>\n",
       "       <use xlink:href=\"#DejaVuSans-2212\"/>\n",
       "       <use xlink:href=\"#DejaVuSans-35\" x=\"83.789062\"/>\n",
       "      </g>\n",
       "     </g>\n",
       "    </g>\n",
       "    <g id=\"ytick_2\">\n",
       "     <g id=\"line2d_13\">\n",
       "      <path d=\"M 28.942188 114.3 \n",
       "L 224.242188 114.3 \n",
       "\" clip-path=\"url(#p4b81e46e0b)\" style=\"fill: none; stroke: #b0b0b0; stroke-width: 0.8; stroke-linecap: square\"/>\n",
       "     </g>\n",
       "     <g id=\"line2d_14\">\n",
       "      <g>\n",
       "       <use xlink:href=\"#mef9517f230\" x=\"28.942188\" y=\"114.3\" style=\"stroke: #000000; stroke-width: 0.8\"/>\n",
       "      </g>\n",
       "     </g>\n",
       "     <g id=\"text_7\">\n",
       "      <!-- −4 -->\n",
       "      <g transform=\"translate(7.2 118.099219) scale(0.1 -0.1)\">\n",
       "       <use xlink:href=\"#DejaVuSans-2212\"/>\n",
       "       <use xlink:href=\"#DejaVuSans-34\" x=\"83.789062\"/>\n",
       "      </g>\n",
       "     </g>\n",
       "    </g>\n",
       "    <g id=\"ytick_3\">\n",
       "     <g id=\"line2d_15\">\n",
       "      <path d=\"M 28.942188 89.1 \n",
       "L 224.242188 89.1 \n",
       "\" clip-path=\"url(#p4b81e46e0b)\" style=\"fill: none; stroke: #b0b0b0; stroke-width: 0.8; stroke-linecap: square\"/>\n",
       "     </g>\n",
       "     <g id=\"line2d_16\">\n",
       "      <g>\n",
       "       <use xlink:href=\"#mef9517f230\" x=\"28.942188\" y=\"89.1\" style=\"stroke: #000000; stroke-width: 0.8\"/>\n",
       "      </g>\n",
       "     </g>\n",
       "     <g id=\"text_8\">\n",
       "      <!-- −3 -->\n",
       "      <g transform=\"translate(7.2 92.899219) scale(0.1 -0.1)\">\n",
       "       <defs>\n",
       "        <path id=\"DejaVuSans-33\" d=\"M 2597 2516 \n",
       "Q 3050 2419 3304 2112 \n",
       "Q 3559 1806 3559 1356 \n",
       "Q 3559 666 3084 287 \n",
       "Q 2609 -91 1734 -91 \n",
       "Q 1441 -91 1130 -33 \n",
       "Q 819 25 488 141 \n",
       "L 488 750 \n",
       "Q 750 597 1062 519 \n",
       "Q 1375 441 1716 441 \n",
       "Q 2309 441 2620 675 \n",
       "Q 2931 909 2931 1356 \n",
       "Q 2931 1769 2642 2001 \n",
       "Q 2353 2234 1838 2234 \n",
       "L 1294 2234 \n",
       "L 1294 2753 \n",
       "L 1863 2753 \n",
       "Q 2328 2753 2575 2939 \n",
       "Q 2822 3125 2822 3475 \n",
       "Q 2822 3834 2567 4026 \n",
       "Q 2313 4219 1838 4219 \n",
       "Q 1578 4219 1281 4162 \n",
       "Q 984 4106 628 3988 \n",
       "L 628 4550 \n",
       "Q 988 4650 1302 4700 \n",
       "Q 1616 4750 1894 4750 \n",
       "Q 2613 4750 3031 4423 \n",
       "Q 3450 4097 3450 3541 \n",
       "Q 3450 3153 3228 2886 \n",
       "Q 3006 2619 2597 2516 \n",
       "z\n",
       "\" transform=\"scale(0.015625)\"/>\n",
       "       </defs>\n",
       "       <use xlink:href=\"#DejaVuSans-2212\"/>\n",
       "       <use xlink:href=\"#DejaVuSans-33\" x=\"83.789062\"/>\n",
       "      </g>\n",
       "     </g>\n",
       "    </g>\n",
       "    <g id=\"ytick_4\">\n",
       "     <g id=\"line2d_17\">\n",
       "      <path d=\"M 28.942188 63.9 \n",
       "L 224.242188 63.9 \n",
       "\" clip-path=\"url(#p4b81e46e0b)\" style=\"fill: none; stroke: #b0b0b0; stroke-width: 0.8; stroke-linecap: square\"/>\n",
       "     </g>\n",
       "     <g id=\"line2d_18\">\n",
       "      <g>\n",
       "       <use xlink:href=\"#mef9517f230\" x=\"28.942188\" y=\"63.9\" style=\"stroke: #000000; stroke-width: 0.8\"/>\n",
       "      </g>\n",
       "     </g>\n",
       "     <g id=\"text_9\">\n",
       "      <!-- −2 -->\n",
       "      <g transform=\"translate(7.2 67.699219) scale(0.1 -0.1)\">\n",
       "       <use xlink:href=\"#DejaVuSans-2212\"/>\n",
       "       <use xlink:href=\"#DejaVuSans-32\" x=\"83.789062\"/>\n",
       "      </g>\n",
       "     </g>\n",
       "    </g>\n",
       "    <g id=\"ytick_5\">\n",
       "     <g id=\"line2d_19\">\n",
       "      <path d=\"M 28.942188 38.7 \n",
       "L 224.242188 38.7 \n",
       "\" clip-path=\"url(#p4b81e46e0b)\" style=\"fill: none; stroke: #b0b0b0; stroke-width: 0.8; stroke-linecap: square\"/>\n",
       "     </g>\n",
       "     <g id=\"line2d_20\">\n",
       "      <g>\n",
       "       <use xlink:href=\"#mef9517f230\" x=\"28.942188\" y=\"38.7\" style=\"stroke: #000000; stroke-width: 0.8\"/>\n",
       "      </g>\n",
       "     </g>\n",
       "     <g id=\"text_10\">\n",
       "      <!-- −1 -->\n",
       "      <g transform=\"translate(7.2 42.499219) scale(0.1 -0.1)\">\n",
       "       <defs>\n",
       "        <path id=\"DejaVuSans-31\" d=\"M 794 531 \n",
       "L 1825 531 \n",
       "L 1825 4091 \n",
       "L 703 3866 \n",
       "L 703 4441 \n",
       "L 1819 4666 \n",
       "L 2450 4666 \n",
       "L 2450 531 \n",
       "L 3481 531 \n",
       "L 3481 0 \n",
       "L 794 0 \n",
       "L 794 531 \n",
       "z\n",
       "\" transform=\"scale(0.015625)\"/>\n",
       "       </defs>\n",
       "       <use xlink:href=\"#DejaVuSans-2212\"/>\n",
       "       <use xlink:href=\"#DejaVuSans-31\" x=\"83.789062\"/>\n",
       "      </g>\n",
       "     </g>\n",
       "    </g>\n",
       "    <g id=\"ytick_6\">\n",
       "     <g id=\"line2d_21\">\n",
       "      <path d=\"M 28.942188 13.5 \n",
       "L 224.242188 13.5 \n",
       "\" clip-path=\"url(#p4b81e46e0b)\" style=\"fill: none; stroke: #b0b0b0; stroke-width: 0.8; stroke-linecap: square\"/>\n",
       "     </g>\n",
       "     <g id=\"line2d_22\">\n",
       "      <g>\n",
       "       <use xlink:href=\"#mef9517f230\" x=\"28.942188\" y=\"13.5\" style=\"stroke: #000000; stroke-width: 0.8\"/>\n",
       "      </g>\n",
       "     </g>\n",
       "     <g id=\"text_11\">\n",
       "      <!-- 0 -->\n",
       "      <g transform=\"translate(15.579688 17.299219) scale(0.1 -0.1)\">\n",
       "       <use xlink:href=\"#DejaVuSans-30\"/>\n",
       "      </g>\n",
       "     </g>\n",
       "    </g>\n",
       "   </g>\n",
       "   <g id=\"line2d_23\">\n",
       "    <path d=\"M 37.81946 139.5 \n",
       "L 39.594913 136.980002 \n",
       "L 41.370366 134.460005 \n",
       "L 43.145827 131.939995 \n",
       "L 44.92128 129.419998 \n",
       "L 46.696733 126.9 \n",
       "L 48.472186 124.380002 \n",
       "L 50.247639 121.860005 \n",
       "L 52.0231 119.339995 \n",
       "L 53.798553 116.819998 \n",
       "L 55.574006 114.3 \n",
       "L 57.349459 111.780002 \n",
       "L 59.124916 109.259999 \n",
       "L 60.900368 106.740001 \n",
       "L 62.675826 104.219998 \n",
       "L 64.451278 101.7 \n",
       "L 66.226731 99.180002 \n",
       "L 68.002188 96.659999 \n",
       "L 69.777641 94.140001 \n",
       "L 71.553098 91.619998 \n",
       "L 73.328551 89.1 \n",
       "L 75.104004 86.580002 \n",
       "L 76.879461 84.059999 \n",
       "L 78.654914 81.540001 \n",
       "L 80.430371 79.019998 \n",
       "L 82.205824 76.5 \n",
       "L 83.981277 73.980002 \n",
       "L 85.756734 71.459999 \n",
       "L 87.532187 68.940001 \n",
       "L 89.307644 66.419998 \n",
       "L 91.083097 63.9 \n",
       "L 92.858552 61.379999 \n",
       "L 94.634007 58.859999 \n",
       "L 96.409459 56.340001 \n",
       "L 98.184914 53.820001 \n",
       "L 99.960369 51.3 \n",
       "L 101.735824 48.779999 \n",
       "L 103.511279 46.259999 \n",
       "L 105.286732 43.740001 \n",
       "L 107.062187 41.220001 \n",
       "L 108.837642 38.7 \n",
       "L 110.613097 36.179999 \n",
       "L 112.388551 33.66 \n",
       "L 114.164006 31.14 \n",
       "L 115.93946 28.620001 \n",
       "L 117.714915 26.1 \n",
       "L 119.490369 23.58 \n",
       "L 121.265824 21.06 \n",
       "L 123.041278 18.54 \n",
       "L 124.816733 16.02 \n",
       "L 126.592188 13.5 \n",
       "L 128.367642 13.5 \n",
       "L 130.143097 13.5 \n",
       "L 131.918551 13.5 \n",
       "L 133.694006 13.5 \n",
       "L 135.46946 13.5 \n",
       "L 137.244915 13.5 \n",
       "L 139.020369 13.5 \n",
       "L 140.795824 13.5 \n",
       "L 142.571278 13.5 \n",
       "L 144.346733 13.5 \n",
       "L 146.122188 13.5 \n",
       "L 147.897643 13.5 \n",
       "L 149.673096 13.5 \n",
       "L 151.448551 13.5 \n",
       "L 153.224006 13.5 \n",
       "L 154.999461 13.5 \n",
       "L 156.774916 13.5 \n",
       "L 158.550368 13.5 \n",
       "L 160.325823 13.5 \n",
       "L 162.101278 13.5 \n",
       "L 163.876731 13.5 \n",
       "L 165.652188 13.5 \n",
       "L 167.427641 13.5 \n",
       "L 169.203098 13.5 \n",
       "L 170.978551 13.5 \n",
       "L 172.754004 13.5 \n",
       "L 174.529461 13.5 \n",
       "L 176.304914 13.5 \n",
       "L 178.080371 13.5 \n",
       "L 179.855824 13.5 \n",
       "L 181.631277 13.5 \n",
       "L 183.406734 13.5 \n",
       "L 185.182187 13.5 \n",
       "L 186.957644 13.5 \n",
       "L 188.733097 13.5 \n",
       "L 190.508549 13.5 \n",
       "L 192.284007 13.5 \n",
       "L 194.059459 13.5 \n",
       "L 195.834916 13.5 \n",
       "L 197.610369 13.5 \n",
       "L 199.385822 13.5 \n",
       "L 201.161275 13.5 \n",
       "L 202.936736 13.5 \n",
       "L 204.712189 13.5 \n",
       "L 206.487642 13.5 \n",
       "L 208.263095 13.5 \n",
       "L 210.038548 13.5 \n",
       "L 211.814009 13.5 \n",
       "L 213.589462 13.5 \n",
       "L 215.364915 13.5 \n",
       "\" clip-path=\"url(#p4b81e46e0b)\" style=\"fill: none; stroke: #1f77b4; stroke-width: 1.5; stroke-linecap: square\"/>\n",
       "   </g>\n",
       "   <g id=\"patch_3\">\n",
       "    <path d=\"M 28.942188 145.8 \n",
       "L 28.942188 7.2 \n",
       "\" style=\"fill: none; stroke: #000000; stroke-width: 0.8; stroke-linejoin: miter; stroke-linecap: square\"/>\n",
       "   </g>\n",
       "   <g id=\"patch_4\">\n",
       "    <path d=\"M 224.242188 145.8 \n",
       "L 224.242188 7.2 \n",
       "\" style=\"fill: none; stroke: #000000; stroke-width: 0.8; stroke-linejoin: miter; stroke-linecap: square\"/>\n",
       "   </g>\n",
       "   <g id=\"patch_5\">\n",
       "    <path d=\"M 28.942187 145.8 \n",
       "L 224.242188 145.8 \n",
       "\" style=\"fill: none; stroke: #000000; stroke-width: 0.8; stroke-linejoin: miter; stroke-linecap: square\"/>\n",
       "   </g>\n",
       "   <g id=\"patch_6\">\n",
       "    <path d=\"M 28.942187 7.2 \n",
       "L 224.242188 7.2 \n",
       "\" style=\"fill: none; stroke: #000000; stroke-width: 0.8; stroke-linejoin: miter; stroke-linecap: square\"/>\n",
       "   </g>\n",
       "  </g>\n",
       " </g>\n",
       " <defs>\n",
       "  <clipPath id=\"p4b81e46e0b\">\n",
       "   <rect x=\"28.942188\" y=\"7.2\" width=\"195.3\" height=\"138.6\"/>\n",
       "  </clipPath>\n",
       " </defs>\n",
       "</svg>\n"
      ],
      "text/plain": [
       "<Figure size 350x250 with 1 Axes>"
      ]
     },
     "metadata": {},
     "output_type": "display_data"
    }
   ],
   "source": [
    "import torch\n",
    "from d2l import torch as d2l\n",
    "\n",
    "x = torch.range(-5, 5, 0.1)\n",
    "\n",
    "d2l.plot(x, torch.tensor([min(i, 0) for i in x]))"
   ]
  },
  {
   "cell_type": "markdown",
   "id": "dfd9969e",
   "metadata": {},
   "source": [
    "1. 除了平均汇聚层和最大汇聚层，是否有其它函数可以考虑（提示：回想一下`softmax`）？为什么它不流行？\n",
    "\n",
    "除了平均汇聚层和最大汇聚层之外，还有其他一些函数可以考虑，如`softmax`汇聚。`softmax`汇聚是一种使用`softmax`函数将汇聚窗口内的值转换成概率分布的方法。然后，根据这个概率分布来计算加权平均或者选择汇聚窗口内的值。\n",
    "\n",
    "尽管`softmax`汇聚具有一定的理论吸引力，但它在实践中不太流行的原因主要有以下几点：\n",
    "\n",
    "1. 计算复杂性：`softmax`汇聚需要计算`softmax`函数，这可能在计算上较昂贵，特别是当汇聚窗口内的值较多时。\n",
    "\n",
    "2. 梯度问题：`softmax`函数是非线性的，导致反向传播时的梯度计算相对复杂。这可能会导致训练过程变得不稳定。\n",
    "\n",
    "3. 引入额外参数：`softmax`汇聚需要引入额外的参数，如温度参数，以控制`softmax`函数的平滑度。这增加了模型的复杂性。\n",
    "\n",
    "4. 缺乏优势：最大汇聚和平均汇聚通常在实际任务中表现良好，且计算效率较高。因此，`softmax`汇聚并没有在实际深度学习中得到广泛采用。\n",
    "\n",
    "虽然有一些理论工作探讨了`softmax`汇聚的潜力，但在实际应用中，最大汇聚和平均汇聚仍然是首选的选择。"
   ]
  },
  {
   "cell_type": "markdown",
   "id": "7a34271c",
   "metadata": {
    "origin_pos": 45,
    "tab": [
     "pytorch"
    ]
   },
   "source": [
    "[Discussions](https://discuss.d2l.ai/t/1857)\n"
   ]
  }
 ],
 "metadata": {
  "kernelspec": {
   "display_name": "base",
   "language": "python",
   "name": "python3"
  },
  "language_info": {
   "codemirror_mode": {
    "name": "ipython",
    "version": 3
   },
   "file_extension": ".py",
   "mimetype": "text/x-python",
   "name": "python",
   "nbconvert_exporter": "python",
   "pygments_lexer": "ipython3",
   "version": "3.11.4"
  }
 },
 "nbformat": 4,
 "nbformat_minor": 5
}
